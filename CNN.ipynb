{
  "nbformat": 4,
  "nbformat_minor": 0,
  "metadata": {
    "colab": {
      "provenance": [],
      "authorship_tag": "ABX9TyPZAlt3cp009BmCmdWQ6PMk",
      "include_colab_link": true
    },
    "kernelspec": {
      "name": "python3",
      "display_name": "Python 3"
    },
    "language_info": {
      "name": "python"
    }
  },
  "cells": [
    {
      "cell_type": "markdown",
      "metadata": {
        "id": "view-in-github",
        "colab_type": "text"
      },
      "source": [
        "<a href=\"https://colab.research.google.com/github/AdithyaVijay246/GenAI-Course/blob/main/CNN.ipynb\" target=\"_parent\"><img src=\"https://colab.research.google.com/assets/colab-badge.svg\" alt=\"Open In Colab\"/></a>"
      ]
    },
    {
      "cell_type": "code",
      "execution_count": null,
      "metadata": {
        "id": "148Spi8rSxUm"
      },
      "outputs": [],
      "source": [
        "!pip install gradio tensorflow\n",
        "\n",
        "import gradio as gr\n",
        "import tensorflow as tf\n",
        "from tensorflow.keras.models import Sequential\n",
        "from tensorflow.keras.layers import Conv2D, MaxPooling2D, Flatten, Dense\n",
        "from tensorflow.keras.datasets import mnist\n",
        "import numpy as np\n",
        "\n",
        "(X_train, y_train), _ = mnist.load_data()\n",
        "X_train = X_train.reshape(-1, 28, 28, 1).astype(\"float32\") / 255\n",
        "\n",
        "model = Sequential([\n",
        "    Conv2D(32, (3,3), activation='relu', input_shape=(28,28,1)),\n",
        "    MaxPooling2D(),\n",
        "    Flatten(),\n",
        "    Dense(10, activation='softmax')\n",
        "])\n",
        "model.compile(optimizer='adam', loss='sparse_categorical_crossentropy', metrics=['accuracy'])\n",
        "model.fit(X_train, y_train, epochs=1)\n",
        "\n",
        "def predict_digit(img):\n",
        "    img = img.reshape(1, 28, 28, 1)\n",
        "    prediction = model.predict(img).argmax()\n",
        "    return int(prediction)\n",
        "\n",
        "gr.Interface(fn=predict_digit, inputs=\"sketchpad\", outputs=\"label\", title=\"Digit Classifier (CNN)\").launch()\n"
      ]
    }
  ]
}