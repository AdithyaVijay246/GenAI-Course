{
  "nbformat": 4,
  "nbformat_minor": 0,
  "metadata": {
    "colab": {
      "provenance": [],
      "authorship_tag": "ABX9TyNaEgGWQpA8Ku1Fbj+djtQj",
      "include_colab_link": true
    },
    "kernelspec": {
      "name": "python3",
      "display_name": "Python 3"
    },
    "language_info": {
      "name": "python"
    }
  },
  "cells": [
    {
      "cell_type": "markdown",
      "metadata": {
        "id": "view-in-github",
        "colab_type": "text"
      },
      "source": [
        "<a href=\"https://colab.research.google.com/github/AdithyaVijay246/GenAI-Course/blob/main/DecisionTree.ipynb\" target=\"_parent\"><img src=\"https://colab.research.google.com/assets/colab-badge.svg\" alt=\"Open In Colab\"/></a>"
      ]
    },
    {
      "cell_type": "code",
      "execution_count": null,
      "metadata": {
        "id": "utK6td4SQgy3"
      },
      "outputs": [],
      "source": [
        "!pip install gradio scikit-learn\n",
        "\n",
        "import gradio as gr\n",
        "from sklearn.tree import DecisionTreeClassifier\n",
        "import numpy as np\n",
        "\n",
        "X = np.array([[85, 8], [70, 6], [90, 9], [60, 5]])\n",
        "y = [1, 0, 1, 0]\n",
        "model = DecisionTreeClassifier()\n",
        "model.fit(X, y)\n",
        "\n",
        "def accept_application(score, experience):\n",
        "    result = model.predict([[score, experience]])\n",
        "    return \"Accepted\" if result[0] else \"Rejected\"\n",
        "\n",
        "gr.Interface(fn=accept_application, inputs=[\"number\", \"number\"], outputs=\"text\", title=\"Application Acceptor\").launch()\n"
      ]
    }
  ]
}