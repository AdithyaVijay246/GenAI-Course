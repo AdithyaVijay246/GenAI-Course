{
  "nbformat": 4,
  "nbformat_minor": 0,
  "metadata": {
    "colab": {
      "provenance": [],
      "authorship_tag": "ABX9TyN8VaH8OvRclccAbqB8gmJj",
      "include_colab_link": true
    },
    "kernelspec": {
      "name": "python3",
      "display_name": "Python 3"
    },
    "language_info": {
      "name": "python"
    }
  },
  "cells": [
    {
      "cell_type": "markdown",
      "metadata": {
        "id": "view-in-github",
        "colab_type": "text"
      },
      "source": [
        "<a href=\"https://colab.research.google.com/github/AdithyaVijay246/GenAI-Course/blob/main/RNN.ipynb\" target=\"_parent\"><img src=\"https://colab.research.google.com/assets/colab-badge.svg\" alt=\"Open In Colab\"/></a>"
      ]
    },
    {
      "cell_type": "code",
      "execution_count": null,
      "metadata": {
        "id": "IcYNcelqR7Yt"
      },
      "outputs": [],
      "source": [
        "!pip install gradio tensorflow\n",
        "\n",
        "import gradio as gr\n",
        "import tensorflow as tf\n",
        "from tensorflow.keras.datasets import imdb\n",
        "from tensorflow.keras.preprocessing.sequence import pad_sequences\n",
        "from tensorflow.keras.models import Sequential\n",
        "from tensorflow.keras.layers import Embedding, SimpleRNN, Dense\n",
        "\n",
        "vocab_size = 10000\n",
        "(X_train, y_train), _ = imdb.load_data(num_words=vocab_size)\n",
        "X_train = pad_sequences(X_train, maxlen=200)\n",
        "\n",
        "model = Sequential([\n",
        "    Embedding(vocab_size, 32, input_length=200),\n",
        "    SimpleRNN(32),\n",
        "    Dense(1, activation='sigmoid')\n",
        "])\n",
        "model.compile(optimizer='adam', loss='binary_crossentropy', metrics=['accuracy'])\n",
        "model.fit(X_train, y_train, epochs=1, batch_size=64)\n",
        "\n",
        "word_index = imdb.get_word_index()\n",
        "reverse_index = {v: k for k, v in word_index.items()}\n",
        "\n",
        "def encode_review(review):\n",
        "    words = review.lower().split()\n",
        "    encoded = [word_index.get(word, 2) for word in words]\n",
        "    return pad_sequences([encoded], maxlen=200)\n",
        "\n",
        "def sentiment_analysis(review):\n",
        "    encoded = encode_review(review)\n",
        "    prediction = model.predict(encoded)[0][0]\n",
        "    return \"Positive\" if prediction > 0.5 else \"Negative\"\n",
        "\n",
        "gr.Interface(fn=sentiment_analysis, inputs=\"text\", outputs=\"text\", title=\"Movie Review Sentiment (RNN)\").launch()\n"
      ]
    }
  ]
}