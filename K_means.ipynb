{
  "nbformat": 4,
  "nbformat_minor": 0,
  "metadata": {
    "colab": {
      "provenance": [],
      "authorship_tag": "ABX9TyOE3+rDXJI9jnj+ZVmXWQPi",
      "include_colab_link": true
    },
    "kernelspec": {
      "name": "python3",
      "display_name": "Python 3"
    },
    "language_info": {
      "name": "python"
    }
  },
  "cells": [
    {
      "cell_type": "markdown",
      "metadata": {
        "id": "view-in-github",
        "colab_type": "text"
      },
      "source": [
        "<a href=\"https://colab.research.google.com/github/AdithyaVijay246/GenAI-Course/blob/main/K_means.ipynb\" target=\"_parent\"><img src=\"https://colab.research.google.com/assets/colab-badge.svg\" alt=\"Open In Colab\"/></a>"
      ]
    },
    {
      "cell_type": "code",
      "execution_count": null,
      "metadata": {
        "id": "82UwhLIqShks"
      },
      "outputs": [],
      "source": [
        "!pip install gradio scikit-learn\n",
        "\n",
        "import gradio as gr\n",
        "from sklearn.cluster import KMeans\n",
        "import numpy as np\n",
        "\n",
        "X = np.array([[80, 200], [60, 180], [90, 220], [30, 100]])\n",
        "model = KMeans(n_clusters=2)\n",
        "model.fit(X)\n",
        "\n",
        "def analyze_event(attendance, rating):\n",
        "    cluster = model.predict([[attendance, rating]])[0]\n",
        "    return f\"Cluster {cluster}: {'Likely Success' if cluster == 1 else 'Needs Improvement'}\"\n",
        "\n",
        "gr.Interface(fn=analyze_event, inputs=[\"number\", \"number\"], outputs=\"text\", title=\"Event Success Analyzer\").launch()\n"
      ]
    }
  ]
}