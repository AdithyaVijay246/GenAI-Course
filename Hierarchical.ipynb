{
  "nbformat": 4,
  "nbformat_minor": 0,
  "metadata": {
    "colab": {
      "provenance": [],
      "authorship_tag": "ABX9TyMBUUQbR6chxV+oD1Ju3dXW",
      "include_colab_link": true
    },
    "kernelspec": {
      "name": "python3",
      "display_name": "Python 3"
    },
    "language_info": {
      "name": "python"
    }
  },
  "cells": [
    {
      "cell_type": "markdown",
      "metadata": {
        "id": "view-in-github",
        "colab_type": "text"
      },
      "source": [
        "<a href=\"https://colab.research.google.com/github/AdithyaVijay246/GenAI-Course/blob/main/Hierarchical.ipynb\" target=\"_parent\"><img src=\"https://colab.research.google.com/assets/colab-badge.svg\" alt=\"Open In Colab\"/></a>"
      ]
    },
    {
      "cell_type": "code",
      "execution_count": null,
      "metadata": {
        "id": "NMOkDZh_RqA4"
      },
      "outputs": [],
      "source": [
        "!pip install gradio scikit-learn\n",
        "\n",
        "import gradio as gr\n",
        "from sklearn.cluster import AgglomerativeClustering\n",
        "import numpy as np\n",
        "\n",
        "X = np.array([[25, 40000], [35, 80000], [45, 20000], [50, 100000]])\n",
        "model = AgglomerativeClustering(n_clusters=2)\n",
        "labels = model.fit_predict(X)\n",
        "\n",
        "def customer_group(age, income):\n",
        "    input = np.array([[age, income]])\n",
        "    distances = np.linalg.norm(X - input, axis=1)\n",
        "    nearest = np.argmin(distances)\n",
        "    return f\"Group {labels[nearest]}\"\n",
        "\n",
        "gr.Interface(fn=customer_group, inputs=[\"number\", \"number\"], outputs=\"text\", title=\"Customer Grouping\").launch()\n"
      ]
    }
  ]
}