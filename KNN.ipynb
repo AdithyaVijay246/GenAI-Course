{
  "nbformat": 4,
  "nbformat_minor": 0,
  "metadata": {
    "colab": {
      "provenance": [],
      "authorship_tag": "ABX9TyN3AdJQpYkiFlWkzOWb7SXL",
      "include_colab_link": true
    },
    "kernelspec": {
      "name": "python3",
      "display_name": "Python 3"
    },
    "language_info": {
      "name": "python"
    }
  },
  "cells": [
    {
      "cell_type": "markdown",
      "metadata": {
        "id": "view-in-github",
        "colab_type": "text"
      },
      "source": [
        "<a href=\"https://colab.research.google.com/github/AdithyaVijay246/GenAI-Course/blob/main/KNN.ipynb\" target=\"_parent\"><img src=\"https://colab.research.google.com/assets/colab-badge.svg\" alt=\"Open In Colab\"/></a>"
      ]
    },
    {
      "cell_type": "code",
      "execution_count": null,
      "metadata": {
        "id": "8zD9qu9lRB5v"
      },
      "outputs": [],
      "source": [
        "!pip install gradio scikit-learn\n",
        "\n",
        "import gradio as gr\n",
        "from sklearn.datasets import load_iris\n",
        "from sklearn.neighbors import KNeighborsClassifier\n",
        "\n",
        "data = load_iris()\n",
        "model = KNeighborsClassifier()\n",
        "model.fit(data.data, data.target)\n",
        "\n",
        "def predict_flower(sepal_length, sepal_width, petal_length, petal_width):\n",
        "    prediction = model.predict([[sepal_length, sepal_width, petal_length, petal_width]])[0]\n",
        "    return data.target_names[prediction]\n",
        "\n",
        "gr.Interface(fn=predict_flower,\n",
        "             inputs=[\"number\", \"number\", \"number\", \"number\"],\n",
        "             outputs=\"text\",\n",
        "             title=\"Iris Flower Classifier\").launch()\n"
      ]
    }
  ]
}